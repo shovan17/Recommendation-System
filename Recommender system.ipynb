{
 "cells": [
  {
   "cell_type": "code",
   "execution_count": null,
   "id": "f5f41e48-be19-4a2c-9ba0-cdeb9610df6b",
   "metadata": {},
   "outputs": [],
   "source": [
    "import  numpy as np\n",
    "import pandas as pd\n",
    "import matplotlib.pyplot as plt\n",
    "import os"
   ]
  },
  {
   "cell_type": "code",
   "execution_count": null,
   "id": "dcec2811-ba9b-48ad-b485-504397f5ea22",
   "metadata": {},
   "outputs": [],
   "source": [
    "movies = pd.read_csv('data/tmdb_5000_movies.csv')\n",
    "credits = pd.read_csv('data/tmdb_5000_credits.csv')"
   ]
  },
  {
   "cell_type": "code",
   "execution_count": null,
   "id": "8f1de380-8ee3-42ee-a5bb-c516a14384c9",
   "metadata": {},
   "outputs": [],
   "source": [
    "movies.head(2)"
   ]
  },
  {
   "cell_type": "code",
   "execution_count": null,
   "id": "a6ef6ee6-2b14-44fd-8398-cb5f73b914bf",
   "metadata": {},
   "outputs": [],
   "source": [
    "credits.head(2)"
   ]
  },
  {
   "cell_type": "code",
   "execution_count": null,
   "id": "80faaf8b-4374-4150-b398-c3008e778774",
   "metadata": {},
   "outputs": [],
   "source": [
    "movies.shape"
   ]
  },
  {
   "cell_type": "code",
   "execution_count": null,
   "id": "95f869de-25a4-4d7a-a585-22a56a9ec935",
   "metadata": {},
   "outputs": [],
   "source": [
    "credits.shape"
   ]
  },
  {
   "cell_type": "code",
   "execution_count": null,
   "id": "7569f432-68e9-4913-8195-951b4d6760a5",
   "metadata": {
    "scrolled": true
   },
   "outputs": [],
   "source": [
    "movies = movies.merge(credits,on = 'title')"
   ]
  },
  {
   "cell_type": "code",
   "execution_count": null,
   "id": "de54903f-5bba-47f7-bb38-c5438c5f243a",
   "metadata": {},
   "outputs": [],
   "source": [
    "movies.head(2)"
   ]
  },
  {
   "cell_type": "code",
   "execution_count": null,
   "id": "48ad3e60-f079-4d3d-912a-b21a321adc2e",
   "metadata": {},
   "outputs": [],
   "source": [
    "movies.shape"
   ]
  },
  {
   "cell_type": "code",
   "execution_count": null,
   "id": "3ecae074-8d99-4aac-9f32-0824fee0ac8b",
   "metadata": {},
   "outputs": [],
   "source": [
    "movies.columns"
   ]
  },
  {
   "cell_type": "code",
   "execution_count": null,
   "id": "746f29c4-706b-42ba-a863-dbaf845cdee4",
   "metadata": {},
   "outputs": [],
   "source": [
    "movies = movies[['movie_id', 'title','overview','genres','keywords','cast','crew']]"
   ]
  },
  {
   "cell_type": "code",
   "execution_count": null,
   "id": "27e9fea6-4630-4062-8ece-400f23ce214a",
   "metadata": {},
   "outputs": [],
   "source": [
    "movies.head()"
   ]
  },
  {
   "cell_type": "code",
   "execution_count": null,
   "id": "8515e138-05b0-4daf-b8f8-6ea19a22cb9d",
   "metadata": {},
   "outputs": [],
   "source": [
    "movies.shape"
   ]
  },
  {
   "cell_type": "code",
   "execution_count": null,
   "id": "2f581041-27a7-428b-bcce-18a06c32e9e0",
   "metadata": {},
   "outputs": [],
   "source": [
    "movies.isnull().sum()"
   ]
  },
  {
   "cell_type": "code",
   "execution_count": null,
   "id": "2bca5371-d5a1-4b80-bff3-235195306fba",
   "metadata": {},
   "outputs": [],
   "source": [
    "movies.dropna(inplace=True)"
   ]
  },
  {
   "cell_type": "code",
   "execution_count": null,
   "id": "95b6c5b7-acae-4429-84f4-2a7ce2c85496",
   "metadata": {},
   "outputs": [],
   "source": [
    "movies.shape"
   ]
  },
  {
   "cell_type": "code",
   "execution_count": null,
   "id": "a936dd1d-0c47-4ecc-b81b-d9f6a215e3ec",
   "metadata": {},
   "outputs": [],
   "source": [
    "movies.duplicated().sum()"
   ]
  },
  {
   "cell_type": "code",
   "execution_count": null,
   "id": "1b35b2a3-71c6-4a65-a160-f3c5f76439d2",
   "metadata": {},
   "outputs": [],
   "source": [
    "movies.head(2)"
   ]
  },
  {
   "cell_type": "code",
   "execution_count": null,
   "id": "04be0e46-13bb-4158-912d-0b4586fb14fb",
   "metadata": {},
   "outputs": [],
   "source": [
    "movies.iloc[0]['genres']"
   ]
  },
  {
   "cell_type": "code",
   "execution_count": null,
   "id": "9f73c306-37b9-4b2f-b5d8-ddcd8b531f05",
   "metadata": {},
   "outputs": [],
   "source": [
    "import ast\n",
    "\n",
    "def convert(text):\n",
    "    l=[]\n",
    "    for i in ast.literal_eval(text):\n",
    "        l.append(i['name'])\n",
    "\n",
    "    return l"
   ]
  },
  {
   "cell_type": "code",
   "execution_count": null,
   "id": "bd6eaaaa-3246-4249-9b0b-8c5a582fc558",
   "metadata": {},
   "outputs": [],
   "source": [
    "movies['genres']= movies['genres'].apply(convert)"
   ]
  },
  {
   "cell_type": "code",
   "execution_count": null,
   "id": "a4dc9cbf-5da0-41ce-a36c-7e54becfd3d2",
   "metadata": {},
   "outputs": [],
   "source": [
    "movies.head(2)"
   ]
  },
  {
   "cell_type": "code",
   "execution_count": null,
   "id": "dc182934-124f-4ce8-bd1d-ebaa04586841",
   "metadata": {},
   "outputs": [],
   "source": [
    "movies.iloc[0]['keywords']"
   ]
  },
  {
   "cell_type": "code",
   "execution_count": null,
   "id": "b1c86de1-1bcc-40e3-a26c-5aad48453655",
   "metadata": {},
   "outputs": [],
   "source": [
    "movies['keywords']= movies['keywords'].apply(convert)\n",
    "movies.head(2)"
   ]
  },
  {
   "cell_type": "code",
   "execution_count": null,
   "id": "1411288f-c2c8-4270-85d0-86b8692e2e85",
   "metadata": {},
   "outputs": [],
   "source": [
    "movies.iloc[0]['cast']"
   ]
  },
  {
   "cell_type": "code",
   "execution_count": null,
   "id": "1cd1098e-e1f8-412a-b837-d8866b893b5d",
   "metadata": {},
   "outputs": [],
   "source": [
    "import ast\n",
    "\n",
    "def convert_cast(text):\n",
    "    l = []\n",
    "    counter = 0\n",
    "\n",
    "    # Only parse if it's a string\n",
    "    if isinstance(text, str):\n",
    "        try:\n",
    "            text = ast.literal_eval(text)\n",
    "        except:\n",
    "            return []\n",
    "\n",
    "    for i in text:\n",
    "        if counter < 3:\n",
    "            # If it's already a list of strings, return it directly\n",
    "            if isinstance(i, str):\n",
    "                l.append(i)\n",
    "            elif isinstance(i, dict) and 'name' in i:\n",
    "                l.append(i['name'])\n",
    "            counter += 1\n",
    "\n",
    "    return l\n"
   ]
  },
  {
   "cell_type": "code",
   "execution_count": null,
   "id": "07427065-3bd5-44d7-bc7e-4229d563b767",
   "metadata": {},
   "outputs": [],
   "source": [
    "movies['cast']= movies['cast'].apply(convert_cast)\n",
    "movies.head(2)"
   ]
  },
  {
   "cell_type": "code",
   "execution_count": null,
   "id": "ccdad190-5159-4919-9f6c-b576689b0bce",
   "metadata": {},
   "outputs": [],
   "source": [
    "movies.iloc[0]['crew']"
   ]
  },
  {
   "cell_type": "code",
   "execution_count": null,
   "id": "6f77512b-4578-49c9-ac51-bfe06c7ce3c7",
   "metadata": {},
   "outputs": [],
   "source": [
    "def fetch_director(text):\n",
    "    l=[]\n",
    "    for i in ast.literal_eval(text):\n",
    "        if i['job'] =='Director':\n",
    "            l.append(i['name'])\n",
    "            break\n",
    "\n",
    "    return l"
   ]
  },
  {
   "cell_type": "code",
   "execution_count": null,
   "id": "8ff3c966-2b30-4a01-a577-8fad1c34ee27",
   "metadata": {},
   "outputs": [],
   "source": [
    "movies['crew']= movies['crew'].apply(fetch_director)\n",
    "movies.head(2)"
   ]
  },
  {
   "cell_type": "code",
   "execution_count": null,
   "id": "bd7a4e32-247c-4c95-a8e0-c5a6b911e1fc",
   "metadata": {},
   "outputs": [],
   "source": [
    "movies.iloc[0]['overview']"
   ]
  },
  {
   "cell_type": "code",
   "execution_count": null,
   "id": "95e2baff-7808-494e-a4e0-bfbdca8aa2d9",
   "metadata": {},
   "outputs": [],
   "source": [
    "movies['overview'] = movies['overview'].apply(lambda x:x.split())\n",
    "movies.head(2)"
   ]
  },
  {
   "cell_type": "code",
   "execution_count": null,
   "id": "df9de8cd-eb6c-4dd1-8315-8be058ea8d8c",
   "metadata": {},
   "outputs": [],
   "source": [
    "movies.iloc[0]['overview']"
   ]
  },
  {
   "cell_type": "code",
   "execution_count": null,
   "id": "bba0b301-b19e-4b83-a79c-80924c297231",
   "metadata": {},
   "outputs": [],
   "source": [
    "movies.head()"
   ]
  },
  {
   "cell_type": "code",
   "execution_count": null,
   "id": "b4e8fc75-cacb-4ca2-a03b-76f50b4306eb",
   "metadata": {},
   "outputs": [],
   "source": [
    "#Sam Worthington\n",
    "#SamWorthington\n",
    "\n",
    "def remove_space(word):\n",
    "    l= []\n",
    "    for i in word:\n",
    "        l.append(i.replace(\" \",\"\"))\n",
    "\n",
    "    return l    "
   ]
  },
  {
   "cell_type": "code",
   "execution_count": null,
   "id": "336b3cc2-2583-4c2f-9675-e5c1dc8d872e",
   "metadata": {},
   "outputs": [],
   "source": [
    "movies['cast'] = movies['cast'].apply(remove_space)\n",
    "movies['crew'] = movies['crew'].apply(remove_space)\n",
    "movies['genres'] = movies['genres'].apply(remove_space)\n",
    "movies['keywords'] = movies['keywords'].apply(remove_space)"
   ]
  },
  {
   "cell_type": "code",
   "execution_count": null,
   "id": "fab777e2-2242-4a67-8925-a37148605564",
   "metadata": {},
   "outputs": [],
   "source": [
    "movies.head()"
   ]
  },
  {
   "cell_type": "code",
   "execution_count": null,
   "id": "1b2e811b-a288-46ac-b61c-4aee61be3685",
   "metadata": {},
   "outputs": [],
   "source": [
    "movies['tags'] = movies['overview'] + movies['genres'] + movies['keywords'] + movies['cast'] + movies['crew']"
   ]
  },
  {
   "cell_type": "code",
   "execution_count": null,
   "id": "90603d19-9998-4b51-ad7a-aa1040dddb21",
   "metadata": {},
   "outputs": [],
   "source": [
    "movies.head()"
   ]
  },
  {
   "cell_type": "code",
   "execution_count": null,
   "id": "b615133f-4aea-4ee8-976b-bdcc3ee87bfb",
   "metadata": {},
   "outputs": [],
   "source": [
    "movies.iloc[0]['overview']"
   ]
  },
  {
   "cell_type": "code",
   "execution_count": null,
   "id": "3aa657ad-a0b5-4e65-8bed-efbea6408022",
   "metadata": {
    "scrolled": true
   },
   "outputs": [],
   "source": [
    "new_df = movies[['movie_id', 'title', 'tags']]\n"
   ]
  },
  {
   "cell_type": "code",
   "execution_count": null,
   "id": "ea683136-682d-4301-9af5-938ee4d4a9bd",
   "metadata": {},
   "outputs": [],
   "source": [
    "new_df.head()"
   ]
  },
  {
   "cell_type": "code",
   "execution_count": null,
   "id": "e7ab095c-7476-416c-afb2-9a8bfcded779",
   "metadata": {},
   "outputs": [],
   "source": [
    "new_df['tags'] = new_df['tags'].apply(lambda x: \" \".join(x))\n",
    "new_df.head()"
   ]
  },
  {
   "cell_type": "code",
   "execution_count": null,
   "id": "e76f6712-b5f2-4c28-9000-d9e5f94a08ca",
   "metadata": {},
   "outputs": [],
   "source": [
    "new_df['tags'] = new_df['tags'].apply(lambda x:x.lower())\n",
    "new_df.head()"
   ]
  },
  {
   "cell_type": "code",
   "execution_count": null,
   "id": "802ce78c-f179-4865-b3b1-eb11d338a5a5",
   "metadata": {},
   "outputs": [],
   "source": [
    "new_df.iloc[0]['tags']"
   ]
  },
  {
   "cell_type": "code",
   "execution_count": null,
   "id": "4577f215-a1b6-49f7-a008-b43652b08831",
   "metadata": {},
   "outputs": [],
   "source": [
    "new_df.shape"
   ]
  },
  {
   "cell_type": "code",
   "execution_count": null,
   "id": "68182eee-34ed-4b08-9cfa-ccf68a010ede",
   "metadata": {},
   "outputs": [],
   "source": [
    "import nltk\n",
    "from nltk.stem import PorterStemmer"
   ]
  },
  {
   "cell_type": "code",
   "execution_count": null,
   "id": "45016375-f7a5-48d1-9d23-60c4dc72d85c",
   "metadata": {},
   "outputs": [],
   "source": [
    "ps = PorterStemmer()"
   ]
  },
  {
   "cell_type": "code",
   "execution_count": null,
   "id": "ecb9d9c1-dcf6-42ac-b335-0a2883a8b5e4",
   "metadata": {},
   "outputs": [],
   "source": [
    "def stems(text):\n",
    "    l =[]\n",
    "    for i in text.split():\n",
    "        l.append(ps.stem(i))\n",
    "\n",
    "    return \" \".join(l)"
   ]
  },
  {
   "cell_type": "code",
   "execution_count": null,
   "id": "a195ce4a-061e-48d4-8ba7-2a0883a6b06d",
   "metadata": {},
   "outputs": [],
   "source": [
    "new_df['tags'] = new_df['tags'].apply(stems)"
   ]
  },
  {
   "cell_type": "code",
   "execution_count": null,
   "id": "bc7aca3a-354d-43fe-a7ce-7280ac28d44f",
   "metadata": {},
   "outputs": [],
   "source": [
    "new_df.iloc[0]['tags']"
   ]
  },
  {
   "cell_type": "code",
   "execution_count": null,
   "id": "1f286eba-a23e-459d-85c4-49d6a2ebd420",
   "metadata": {},
   "outputs": [],
   "source": [
    "from sklearn.feature_extraction.text import CountVectorizer\n",
    "cv = CountVectorizer(max_features = 5000, stop_words = 'english')"
   ]
  },
  {
   "cell_type": "code",
   "execution_count": null,
   "id": "b81c4fed-9a95-4541-98c8-05950c5dee5b",
   "metadata": {},
   "outputs": [],
   "source": [
    "vector = cv.fit_transform(new_df['tags']).toarray()"
   ]
  },
  {
   "cell_type": "code",
   "execution_count": null,
   "id": "1cd2789b-2fb5-46e1-9a39-1078dedd9600",
   "metadata": {},
   "outputs": [],
   "source": [
    "vector"
   ]
  },
  {
   "cell_type": "code",
   "execution_count": null,
   "id": "3800becf-ef10-4581-bfec-82ec1dab725d",
   "metadata": {},
   "outputs": [],
   "source": [
    "vector.shape"
   ]
  },
  {
   "cell_type": "code",
   "execution_count": null,
   "id": "0eaa41cd-9b30-4fd9-a72b-5b35b22e7404",
   "metadata": {},
   "outputs": [],
   "source": [
    "from sklearn.metrics.pairwise import cosine_similarity"
   ]
  },
  {
   "cell_type": "code",
   "execution_count": null,
   "id": "dec0ee4d-1c94-454a-8ea3-8d62eb18049a",
   "metadata": {},
   "outputs": [],
   "source": [
    "similary = cosine_similarity(vector)"
   ]
  },
  {
   "cell_type": "code",
   "execution_count": null,
   "id": "904fcd58-9a1a-4ca5-84c2-83c387a34c13",
   "metadata": {},
   "outputs": [],
   "source": [
    "similary"
   ]
  },
  {
   "cell_type": "code",
   "execution_count": null,
   "id": "cc5ed131-235a-4810-a9ba-51e92713af2a",
   "metadata": {},
   "outputs": [],
   "source": [
    "similary.shape"
   ]
  },
  {
   "cell_type": "code",
   "execution_count": null,
   "id": "2f4da15f-35b3-435d-a124-c78134b330f2",
   "metadata": {},
   "outputs": [],
   "source": [
    "new_df[new_df['title'] == 'Spider-Man'].index[0]"
   ]
  },
  {
   "cell_type": "code",
   "execution_count": null,
   "id": "aafa5da3-4055-48cb-ac79-b3ac2ad35f54",
   "metadata": {},
   "outputs": [],
   "source": [
    "def recommend(movie):\n",
    "    index = new_df[new_df['title'] == movie].index[0]\n",
    "    distances = sorted(list(enumerate(similary[index])), reverse = True , key = lambda x:x[1])\n",
    "    for i in distances[1:6]:\n",
    "        print(new_df.iloc[i[0]].title)"
   ]
  },
  {
   "cell_type": "code",
   "execution_count": null,
   "id": "624d1e15-41dd-4df1-ace7-0c375187b3d4",
   "metadata": {},
   "outputs": [],
   "source": [
    "recommend('Spider-Man')"
   ]
  },
  {
   "cell_type": "code",
   "execution_count": null,
   "id": "48ebd30b-8b5c-4f7a-bfbd-9e8188c1e931",
   "metadata": {},
   "outputs": [],
   "source": [
    "recommend('The Dark Knight Rises')"
   ]
  },
  {
   "cell_type": "code",
   "execution_count": null,
   "id": "fb9da2bf-1469-4df5-9013-cbced3139387",
   "metadata": {},
   "outputs": [],
   "source": [
    "import pickle\n",
    "\n",
    "pickle.dump(new_df, open('artifacts/movie_list.pkl', 'wb'))\n",
    "pickle.dump(similary, open('artifacts/similarity.pkl', 'wb'))"
   ]
  },
  {
   "cell_type": "code",
   "execution_count": null,
   "id": "1283306f-0f39-4ddf-8172-ae51fe4e6373",
   "metadata": {},
   "outputs": [],
   "source": [
    "recommend('The Purge')"
   ]
  },
  {
   "cell_type": "code",
   "execution_count": null,
   "id": "e690eeb6-ca23-4e66-89ea-093fed45eb1f",
   "metadata": {},
   "outputs": [],
   "source": [
    "import pickle"
   ]
  },
  {
   "cell_type": "code",
   "execution_count": null,
   "id": "4deb07a2-0272-43d5-8dc1-87e44ea912a0",
   "metadata": {},
   "outputs": [],
   "source": [
    "pickle.dump(new_df.to_dict(), open('movie_dict.pkl','wb'))"
   ]
  },
  {
   "cell_type": "code",
   "execution_count": null,
   "id": "6498fa08-3d26-4e73-8e1a-9712fb520378",
   "metadata": {},
   "outputs": [],
   "source": [
    "new_df['title'].values"
   ]
  },
  {
   "cell_type": "code",
   "execution_count": null,
   "id": "a8f1e22c-b446-4df5-9f3c-3b6823ab183a",
   "metadata": {},
   "outputs": [],
   "source": [
    "new_df.to_dict()"
   ]
  },
  {
   "cell_type": "code",
   "execution_count": null,
   "id": "0b06718c-eb7c-4317-8228-e5b512bf71de",
   "metadata": {},
   "outputs": [],
   "source": [
    "pickle.dump(similary,open('similary.pkl', 'wb'))"
   ]
  },
  {
   "cell_type": "code",
   "execution_count": null,
   "id": "c845a047-3421-4b26-a30f-0ac8ad7070ec",
   "metadata": {},
   "outputs": [],
   "source": []
  }
 ],
 "metadata": {
  "kernelspec": {
   "display_name": "Python 3 (ipykernel)",
   "language": "python",
   "name": "python3"
  },
  "language_info": {
   "codemirror_mode": {
    "name": "ipython",
    "version": 3
   },
   "file_extension": ".py",
   "mimetype": "text/x-python",
   "name": "python",
   "nbconvert_exporter": "python",
   "pygments_lexer": "ipython3",
   "version": "3.13.5"
  }
 },
 "nbformat": 4,
 "nbformat_minor": 5
}
